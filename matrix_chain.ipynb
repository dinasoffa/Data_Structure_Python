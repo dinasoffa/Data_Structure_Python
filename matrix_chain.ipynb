{
  "nbformat": 4,
  "nbformat_minor": 0,
  "metadata": {
    "colab": {
      "provenance": []
    },
    "kernelspec": {
      "name": "python3",
      "display_name": "Python 3"
    },
    "language_info": {
      "name": "python"
    }
  },
  "cells": [
    {
      "cell_type": "code",
      "execution_count": 1,
      "metadata": {
        "id": "w8YHwscrfQmn"
      },
      "outputs": [],
      "source": [
        "def matrix_chain(arr):\n",
        "    import numpy as np\n",
        "    n = len(arr)\n",
        "    mat = np.zeros((n, n))\n",
        "\n",
        "    for L in range(2, n):\n",
        "        for i in range(1, n-L+1):\n",
        "            j = i+L-1\n",
        "            temp = []\n",
        "            for k in range(i, j):\n",
        "                temp.append(mat[i][k] + mat[k+1][j] + arr[i-1]*arr[k]*arr[j])\n",
        "            mat[i][j] = min(temp)\n",
        "    \n",
        "    return mat"
      ]
    },
    {
      "cell_type": "code",
      "source": [],
      "metadata": {
        "id": "Pd1LVqQKfbdB"
      },
      "execution_count": null,
      "outputs": []
    }
  ]
}