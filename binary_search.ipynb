{
  "nbformat": 4,
  "nbformat_minor": 0,
  "metadata": {
    "colab": {
      "provenance": []
    },
    "kernelspec": {
      "name": "python3",
      "display_name": "Python 3"
    },
    "language_info": {
      "name": "python"
    }
  },
  "cells": [
    {
      "cell_type": "code",
      "execution_count": null,
      "metadata": {
        "id": "8haY_y2VYgYI"
      },
      "outputs": [],
      "source": [
        "def binary_search_iteration(arr,word):\n",
        "  size=len(arr)\n",
        "  high =size-1\n",
        "  low=0\n",
        "  \n",
        "\n",
        "\n",
        "  while(high>=low):\n",
        "    mid=(high+low)//2\n",
        "    if (word==arr[mid]):\n",
        "      return mid\n",
        "\n",
        "    elif (word< arr[mid]):\n",
        "      high=mid-1\n",
        "\n",
        "    elif(word>arr[mid]):\n",
        "      low=mid+1\n",
        " \n",
        "\n",
        "  else:\n",
        "    return -1       "
      ]
    },
    {
      "cell_type": "code",
      "source": [
        "arr=[2,3,4,5,6,7,8,9]\n",
        "word=0\n",
        "binary_search_iteration(arr,word)"
      ],
      "metadata": {
        "colab": {
          "base_uri": "https://localhost:8080/"
        },
        "id": "GsD5kXC7ZhTn",
        "outputId": "df6f880b-146e-4056-c4b7-f09ca32ae016"
      },
      "execution_count": null,
      "outputs": [
        {
          "output_type": "execute_result",
          "data": {
            "text/plain": [
              "-1"
            ]
          },
          "metadata": {},
          "execution_count": 13
        }
      ]
    },
    {
      "cell_type": "code",
      "source": [
        "arr=[2,3,4,5,6,7,8,9]\n",
        "word=2\n",
        "binary_search_iteration(arr,word)"
      ],
      "metadata": {
        "colab": {
          "base_uri": "https://localhost:8080/"
        },
        "id": "blQ9SQPpdM_V",
        "outputId": "3e319c5d-f991-410e-c5f0-83bf3c2f21a3"
      },
      "execution_count": null,
      "outputs": [
        {
          "output_type": "execute_result",
          "data": {
            "text/plain": [
              "0"
            ]
          },
          "metadata": {},
          "execution_count": 14
        }
      ]
    },
    {
      "cell_type": "code",
      "source": [
        "def binary_search_recersion(arr,low,high,word):\n",
        "  \n",
        "  while(high>=low):\n",
        "    mid=(high+low)//2\n",
        "    if(arr[mid]==word):\n",
        "      return mid\n",
        "\n",
        "    elif(word>arr[mid]):\n",
        "      return binary_search_recersion(arr, mid+1, high,word)\n",
        "\n",
        "    elif(word<arr[mid]):\n",
        "      return binary_search_recersion(arr,low, mid-1 , word)\n",
        "\n",
        "  else:\n",
        "    return -1\n",
        "    \n"
      ],
      "metadata": {
        "id": "sFJsT-kCbKvm"
      },
      "execution_count": 1,
      "outputs": []
    },
    {
      "cell_type": "code",
      "source": [
        "arr=[2,3,4,5,6,7,8,9]\n",
        "word=0\n",
        "binary_search_recersion(arr,0,len(arr)-1,word)"
      ],
      "metadata": {
        "colab": {
          "base_uri": "https://localhost:8080/"
        },
        "id": "m9nw6WNSdbjr",
        "outputId": "2af3a1dd-0a0c-4492-f2c9-9defe85ad057"
      },
      "execution_count": null,
      "outputs": [
        {
          "output_type": "execute_result",
          "data": {
            "text/plain": [
              "-1"
            ]
          },
          "metadata": {},
          "execution_count": 26
        }
      ]
    },
    {
      "cell_type": "code",
      "source": [
        "arr=[2,3,4,5,6,7,8,9]\n",
        "word=3\n",
        "binary_search_recersion(arr,0,len(arr)-1,word)"
      ],
      "metadata": {
        "id": "heCnhg2KfBet",
        "outputId": "e6d9f55d-d280-4bf5-82f1-97cc39d6f627",
        "colab": {
          "base_uri": "https://localhost:8080/"
        }
      },
      "execution_count": 2,
      "outputs": [
        {
          "output_type": "execute_result",
          "data": {
            "text/plain": [
              "1"
            ]
          },
          "metadata": {},
          "execution_count": 2
        }
      ]
    }
  ]
}