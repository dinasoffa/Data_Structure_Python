{
  "nbformat": 4,
  "nbformat_minor": 0,
  "metadata": {
    "colab": {
      "provenance": []
    },
    "kernelspec": {
      "name": "python3",
      "display_name": "Python 3"
    },
    "language_info": {
      "name": "python"
    }
  },
  "cells": [
    {
      "cell_type": "code",
      "execution_count": 12,
      "metadata": {
        "id": "gxn7Tn-RypM6"
      },
      "outputs": [],
      "source": [
        "class Job:\n",
        "  def __init__(self , jops, dl, prof):\n",
        "    self.jops=jops\n",
        "    self.profit=prof\n",
        "    self.deadline=dl\n",
        "\n"
      ]
    },
    {
      "cell_type": "code",
      "source": [
        "def schadule_jobs(jobs, t):\n",
        "  jobs.sort(key = lambda x: x.profit ,reverse=True)\n",
        "  schadule=[-1 for x in range(0,t)]\n",
        "\n",
        "  for j in jobs:\n",
        "    if j.deadline<=t:\n",
        "      if schadule[j.deadline-1]==-1:\n",
        "        schadule[j.deadline-1]=j.jops\n",
        "\n",
        "      else:\n",
        "        for i in range(j.deadline-1-1,0,-1):\n",
        "          if schadule[i]==-1:\n",
        "            schadule[i]=j.jops\n",
        "\n",
        "\n",
        "  return schadule         \n",
        "\n",
        "\n",
        "\n"
      ],
      "metadata": {
        "id": "eDtH_R9N4PrI"
      },
      "execution_count": 15,
      "outputs": []
    },
    {
      "cell_type": "code",
      "source": [
        "jobs=[Job('j1',2,40),Job('j2',4,15),Job('j3',3,60),Job('j4',2,20),Job('j5',3,10),Job('j6',1,45),Job('j7',1,55)]\n",
        "\n",
        "print(\"Job Schedule :\" ,schadule_jobs(jobs,4))"
      ],
      "metadata": {
        "colab": {
          "base_uri": "https://localhost:8080/"
        },
        "id": "VkpXJeBb6xSS",
        "outputId": "055ac715-4b98-42f2-f959-0cf1ccf8ffa9"
      },
      "execution_count": 16,
      "outputs": [
        {
          "output_type": "stream",
          "name": "stdout",
          "text": [
            "Job Schedule : ['j7', 'j1', 'j3', 'j2']\n"
          ]
        }
      ]
    }
  ]
}