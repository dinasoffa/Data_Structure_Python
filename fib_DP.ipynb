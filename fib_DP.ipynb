{
  "nbformat": 4,
  "nbformat_minor": 0,
  "metadata": {
    "colab": {
      "provenance": []
    },
    "kernelspec": {
      "name": "python3",
      "display_name": "Python 3"
    },
    "language_info": {
      "name": "python"
    }
  },
  "cells": [
    {
      "cell_type": "code",
      "execution_count": 19,
      "metadata": {
        "id": "GWVfdHLzA3J2"
      },
      "outputs": [],
      "source": [
        "def fib(n):\n",
        "  if n<=0:\n",
        "    return 0\n",
        "  f=[0]*(n+1)\n",
        "  f[0]=0\n",
        "  f[1]=1  \n",
        "\n",
        "  for i in range(2,n+1):\n",
        "    f[i]=f[i-2]+f[i-1]  \n",
        "\n",
        "  return f[n]  "
      ]
    },
    {
      "cell_type": "code",
      "source": [
        "fib(9)"
      ],
      "metadata": {
        "colab": {
          "base_uri": "https://localhost:8080/"
        },
        "id": "pDXHcRg9FJDx",
        "outputId": "f9878dca-23b3-4cff-e2ee-52ae8ce2be37"
      },
      "execution_count": 21,
      "outputs": [
        {
          "output_type": "execute_result",
          "data": {
            "text/plain": [
              "34"
            ]
          },
          "metadata": {},
          "execution_count": 21
        }
      ]
    },
    {
      "cell_type": "markdown",
      "source": [],
      "metadata": {
        "id": "OMetHgRuVeha"
      }
    }
  ]
}