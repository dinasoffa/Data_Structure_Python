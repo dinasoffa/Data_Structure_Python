{
  "nbformat": 4,
  "nbformat_minor": 0,
  "metadata": {
    "colab": {
      "provenance": []
    },
    "kernelspec": {
      "name": "python3",
      "display_name": "Python 3"
    },
    "language_info": {
      "name": "python"
    }
  },
  "cells": [
    {
      "cell_type": "markdown",
      "source": [
        "\n",
        "# linkedin\n",
        "\n",
        "\n"
      ],
      "metadata": {
        "id": "fh3qRKezTsMj"
      }
    },
    {
      "cell_type": "code",
      "execution_count": 1,
      "metadata": {
        "id": "h-GQtlbBETHi"
      },
      "outputs": [],
      "source": [
        "class student:\n",
        "    def __init__(self, name, i_d, group):\n",
        "        self.name =name\n",
        "        self.i_d=i_d\n",
        "        self.group=group\n",
        "        \n",
        "    def __repr__(self):\n",
        "        return f'the name is {self.name}\\n the id {self.i_d} \\nthe group is {self.group}' \n",
        "    \n",
        "class Node:\n",
        "    def __init__(self, data):\n",
        "            self.prev = None\n",
        "            self.next = None\n",
        "            self.data = data\n",
        "            \n",
        "    def __repr__(self):\n",
        "        return str(self.data)\n",
        "            \n",
        "            \n",
        "class LinkedList:\n",
        "    def __init__(self):\n",
        "        self.head = None\n",
        "        self.tail=None\n",
        "        self.size=0\n",
        "        \n",
        "     \n",
        "    def displayall(self): \n",
        "        root_node= self.head\n",
        "        while(root_node!=None):\n",
        "          print(root_node.data)\n",
        "          root_node=root_node.next\n",
        "         \n",
        "        \n",
        "        \n",
        "    def append(self, new_node):\n",
        "        new=Node(new_node)\n",
        "        if (self.head==None):\n",
        "            self.head=new\n",
        "            self.tail=new\n",
        "            self.size+=1\n",
        "            \n",
        "        else:\n",
        "            new.prev=self.tail\n",
        "            self.tail.next=new\n",
        "            self.tail=new\n",
        "            self.size+=1\n",
        "            \n",
        "    def insert(self, data, index):\n",
        "        new=Node(data)\n",
        "        if (self.head==None):\n",
        "            self.head=new\n",
        "            self.tail=new\n",
        "            self.size+=1\n",
        "          \n",
        "        else:\n",
        "            if(index==0):\n",
        "                new.next=self.head\n",
        "                self.head.prev=new\n",
        "                self.head=new\n",
        "                self.size+=1\n",
        "            else:\n",
        "                i=0\n",
        "                current=self.head\n",
        "                while(i<(index-1) ):\n",
        "                    current=current.next\n",
        "                    i+=1\n",
        "                    \n",
        "                if ((current==self.tail) or (current==None)):\n",
        "                    new.prev=self.tail\n",
        "                    self.tail.next=new\n",
        "                    self.tail=new\n",
        "                    self.size+=1\n",
        "                else:\n",
        "                    current.next.prev=new\n",
        "                    new.next=current.next\n",
        "                    current.next=new\n",
        "                    new.prev=current\n",
        "                    self.size+=1\n",
        "                    \n",
        "    def searchbyname(self ,data): \n",
        "        n=Node\n",
        "        i=0\n",
        "        if (self.head!=None):\n",
        "            n=self.head\n",
        "            while(n.data.name != data.name ):\n",
        "                n=n.next\n",
        "                i+=1\n",
        "            if (n != None):\n",
        "                print(f\"the name is exist in node index {i+1}\")\n",
        "             \n",
        "            else:\n",
        "                print(\"there is no node with that name \")\n",
        "\n",
        "    def delete_id(self, i_d):\n",
        "        retval=0\n",
        "        n=Node\n",
        "        if (self.head!=None):\n",
        "            n=self.head\n",
        "            #delete the first node\n",
        "            if (n.data.i_d==i_d):\n",
        "                #if there is only one node\n",
        "                if(self.head==self.tail):\n",
        "                    self.head=None\n",
        "                    self.tail=None\n",
        "                else:\n",
        "                    self.head=self.head.next\n",
        "                    self.head.prev=None\n",
        "                retval=1    \n",
        "\n",
        "            else:\n",
        "                i=0\n",
        "                n=self.head\n",
        "                while((n.data.i_d != i_d) ):\n",
        "                    n=n.next\n",
        "                    i+=1\n",
        "\n",
        "                if (n!=None):\n",
        "                    # if the node which will be deleted at the end\n",
        "                    if(n==self.tail):\n",
        "                        self.tail=self.tail.prev\n",
        "                        self.tail.next=None\n",
        "                    #in the middle\n",
        "                    else:\n",
        "                        n.prev.next=n.next\n",
        "                        n.next.prev=n.prev\n",
        "\n",
        "                    retval=1\n",
        "\n",
        "\n",
        "            return retval\n",
        "\n",
        "\n",
        "\n",
        "    def delete_by_group(self, group):\n",
        "        retval=0\n",
        "        n=Node\n",
        "        if (self.head!=None):\n",
        "            n=self.head\n",
        "            #delete the first node\n",
        "            for j in range(0, self.size):\n",
        "              if (n.data.group==group):\n",
        "                id=n.data.i_d\n",
        "                self.delete_id(id)\n",
        "                retval+=1\n",
        "          \n",
        "                \n",
        "              n=n.next \n",
        "              \n",
        "        return retval    \n",
        "\n",
        "\n",
        "    def delete_all(self):\n",
        "        self.head=self.tail=None\n",
        "\n",
        "\n",
        "\n",
        "    def __repr__(self):\n",
        "        return f\" the size is {self.size} \"\n",
        "\n",
        "\n",
        "\n",
        "\n",
        "\n"
      ]
    },
    {
      "cell_type": "code",
      "source": [
        "add=LinkedList()\n",
        "s1=student(\"hager\", 1, 2)\n",
        "s2=student(\"mohand\", 4, 4)\n",
        "s3=student(\"mohamed\", 5, 4)\n",
        "s4=student(\"dina\", 9,6)\n",
        "add.append(s3)\n",
        "add.insert(s4,2)\n",
        "add.insert(s1,3)\n",
        "add.append(s2)\n"
      ],
      "metadata": {
        "id": "mORKYn7kEwW2"
      },
      "execution_count": null,
      "outputs": []
    },
    {
      "cell_type": "code",
      "source": [
        "add.displayall()"
      ],
      "metadata": {
        "colab": {
          "base_uri": "https://localhost:8080/"
        },
        "id": "6egdtUDhZUMk",
        "outputId": "88db6a1c-fcfc-481b-9c77-2ad676f2bd92"
      },
      "execution_count": null,
      "outputs": [
        {
          "output_type": "stream",
          "name": "stdout",
          "text": [
            "the name is mohamed\n",
            " the id 5 \n",
            "the group is 4\n",
            "the name is dina\n",
            " the id 9 \n",
            "the group is 6\n",
            "the name is hager\n",
            " the id 1 \n",
            "the group is 2\n",
            "the name is mohand\n",
            " the id 4 \n",
            "the group is 4\n"
          ]
        }
      ]
    },
    {
      "cell_type": "code",
      "source": [
        "add.delete_by_group(4)"
      ],
      "metadata": {
        "colab": {
          "base_uri": "https://localhost:8080/"
        },
        "id": "9V2M2N5-pt5i",
        "outputId": "6a908448-8cd7-43fe-f815-e0a978bc64d0"
      },
      "execution_count": null,
      "outputs": [
        {
          "output_type": "execute_result",
          "data": {
            "text/plain": [
              "2"
            ]
          },
          "metadata": {},
          "execution_count": 239
        }
      ]
    },
    {
      "cell_type": "code",
      "source": [
        "add.searchbyname(s4)"
      ],
      "metadata": {
        "colab": {
          "base_uri": "https://localhost:8080/"
        },
        "id": "Z9Xl-Dv3Pc1O",
        "outputId": "660835af-da22-4e92-b895-8845a21905bd"
      },
      "execution_count": null,
      "outputs": [
        {
          "output_type": "stream",
          "name": "stdout",
          "text": [
            "the name is exist in node index 1\n"
          ]
        }
      ]
    },
    {
      "cell_type": "code",
      "source": [
        "add.delete_id(s4)"
      ],
      "metadata": {
        "colab": {
          "base_uri": "https://localhost:8080/"
        },
        "id": "AhBhBxJBFIFs",
        "outputId": "fd82c49b-d31c-4d47-ade1-de91e25a9f30"
      },
      "execution_count": null,
      "outputs": [
        {
          "output_type": "execute_result",
          "data": {
            "text/plain": [
              "1"
            ]
          },
          "metadata": {},
          "execution_count": 173
        }
      ]
    },
    {
      "cell_type": "code",
      "source": [
        "add.displayall()"
      ],
      "metadata": {
        "colab": {
          "base_uri": "https://localhost:8080/"
        },
        "id": "G-PJfvj_pbwD",
        "outputId": "ab98dff5-24bb-4a46-bbd0-d580482a81c8"
      },
      "execution_count": null,
      "outputs": [
        {
          "output_type": "stream",
          "name": "stdout",
          "text": [
            "the name is mohamed\n",
            " the id 5 \n",
            "the group is 4\n",
            "the name is dina\n",
            " the id 9 \n",
            "the group is 6\n"
          ]
        }
      ]
    },
    {
      "cell_type": "code",
      "source": [
        "print(add)"
      ],
      "metadata": {
        "colab": {
          "base_uri": "https://localhost:8080/"
        },
        "id": "vbRmkISNJyRj",
        "outputId": "65505631-5aac-4954-8190-2bdb712d16c5"
      },
      "execution_count": null,
      "outputs": [
        {
          "output_type": "stream",
          "name": "stdout",
          "text": [
            " the size is 5 \n"
          ]
        }
      ]
    },
    {
      "cell_type": "markdown",
      "source": [
        " # stack task "
      ],
      "metadata": {
        "id": "Bh-BX-Q_ThZs"
      }
    },
    {
      "cell_type": "code",
      "source": [
        "class student:\n",
        "    def __init__(self, name, i_d, group):\n",
        "        self.name =name\n",
        "        self.i_d=i_d\n",
        "        self.group=group\n",
        "        \n",
        "    def __repr__(self):\n",
        "        return f'the name is {self.name}\\n the id {self.i_d} \\nthe group is {self.group}' \n",
        "    \n",
        "class Node:\n",
        "    def __init__(self, data):\n",
        "            self.prev = None\n",
        "            self.data = data\n",
        "            \n",
        "    def __repr__(self):\n",
        "        return str(self.data)\n",
        "\n",
        "class SLinkedList:\n",
        "    def __init__(self):\n",
        "        self.head = None\n",
        "        self.tail=None\n",
        "        self.size=0 \n",
        "\n",
        "    def displayall(self): \n",
        "          root_node= self.tail\n",
        "          nd = None\n",
        "          while(root_node != None):\n",
        "            nd =root_node        \n",
        "            root_node = root_node.Prev\n",
        "            print(nd.data)\n",
        "\n",
        "class Stack:\n",
        "  def __init__(self , linked):\n",
        "    self.linked=linked\n",
        "    self.linked.tail=None\n",
        "\n",
        "  def Push(self, data):\n",
        "    nd = Node(data)\n",
        "    #No Item in the Stack\n",
        "    if(self.linked.tail == None):\n",
        "      self.linked.tail = nd\n",
        "\n",
        "      self.linked.tail.Prev=None\n",
        "      \n",
        "\n",
        "    #There is item in the stack\n",
        "    else:        \n",
        "      nd.Prev = self.linked.tail        \n",
        "      self.linked.tail = nd        \n",
        "  def Pop(self):\n",
        "    nd = None\n",
        "  # there is a list\n",
        "    if(self.linked.tail != None):\n",
        "       nd = self.linked.tail        \n",
        "       self.linked.tail = self.linked.tail.Prev\n",
        "    return nd"
      ],
      "metadata": {
        "id": "i1RUhmytBgco"
      },
      "execution_count": null,
      "outputs": []
    },
    {
      "cell_type": "code",
      "source": [
        "add=SLinkedList()\n",
        "s1=student(\"hager\", 1, 2)\n",
        "s2=student(\"mohand\", 4, 4)\n",
        "s3=student(\"mohamed\", 5, 4)\n",
        "s4=student(\"dina\", 9,6)\n",
        "st=Stack(add)\n",
        "st.Push(s1)\n",
        "st.Push(s2)\n",
        "st.Push(s3)\n",
        "st.Push(s4)\n",
        "\n",
        "\n",
        "\n"
      ],
      "metadata": {
        "id": "TTN-zqx5EGEs"
      },
      "execution_count": null,
      "outputs": []
    },
    {
      "cell_type": "code",
      "source": [
        "st.Pop()"
      ],
      "metadata": {
        "id": "NQO5qeddLP5Z"
      },
      "execution_count": null,
      "outputs": []
    },
    {
      "cell_type": "code",
      "source": [
        "add.displayall()"
      ],
      "metadata": {
        "colab": {
          "base_uri": "https://localhost:8080/"
        },
        "id": "kNsojg_8JAqA",
        "outputId": "a56a6d02-f176-4b19-dc5a-71c3aef84e02"
      },
      "execution_count": null,
      "outputs": [
        {
          "output_type": "stream",
          "name": "stdout",
          "text": [
            "the name is dina\n",
            " the id 9 \n",
            "the group is 6\n",
            "the name is mohamed\n",
            " the id 5 \n",
            "the group is 4\n",
            "the name is mohand\n",
            " the id 4 \n",
            "the group is 4\n",
            "the name is hager\n",
            " the id 1 \n",
            "the group is 2\n"
          ]
        }
      ]
    },
    {
      "cell_type": "markdown",
      "source": [
        "# queue task"
      ],
      "metadata": {
        "id": "npAfCynsbSDV"
      }
    },
    {
      "cell_type": "code",
      "source": [
        "class student:\n",
        "    def __init__(self, name, i_d, group):\n",
        "        self.name =name\n",
        "        self.i_d=i_d\n",
        "        self.group=group\n",
        "        \n",
        "    def __repr__(self):\n",
        "        return f'the name is {self.name}\\n the id {self.i_d} \\nthe group is {self.group}' \n",
        "    \n",
        "class Node:\n",
        "    def __init__(self, data):\n",
        "\n",
        "            self.prev = None\n",
        "            self.Next=None\n",
        "            self.data = data\n",
        "            \n",
        "    def __repr__(self):\n",
        "        return str(self.data)\n",
        "\n",
        "class SLinkedList:\n",
        "    def __init__(self):\n",
        "        self.Head = None\n",
        "        self.Tail=None\n",
        "        self.size=0 \n",
        "\n",
        "    def displayall(self): \n",
        "          root_node= self.Head\n",
        "          nd = None\n",
        "          while(root_node != None):\n",
        "            nd =root_node        \n",
        "            root_node = root_node.Next\n",
        "            print(nd.data)\n",
        "class Queue:\n",
        "  def __init__(self,linked):\n",
        "    self.linked=linked\n",
        "    self.linked.Head = None\n",
        "    self.linked.Tail = None\n",
        "    # Add Node        \n",
        "  def EnQueue(self, data):\n",
        "    nd = Node(data)\n",
        "    # empty queue\n",
        "    if(self.linked.Head == None):        \n",
        "      self.linked.Head = nd        \n",
        "      self.linked.Tail = nd\n",
        "      self.linked.Tail.Next=None\n",
        "\n",
        "\n",
        "      # there exist node\n",
        "    else:        \n",
        "      self.linked.Tail.Next = nd        \n",
        "      self.linked.Tail = nd\n",
        "      # Retreive Node        \n",
        "  def DeQueue(self):\n",
        "    nd = None\n",
        "    #Queue not Empty\n",
        "    if(self.linked.Head != None):        \n",
        "      nd = self.linked.Head        \n",
        "      self.linked.Head = self.linked.Head.Next\n",
        "    return nd"
      ],
      "metadata": {
        "id": "5OB8A7QzT6Ky"
      },
      "execution_count": null,
      "outputs": []
    },
    {
      "cell_type": "code",
      "source": [
        "add=SLinkedList()\n",
        "s1=student(\"hager\", 1, 2)\n",
        "s2=student(\"mohand\", 4, 4)\n",
        "s3=student(\"mohamed\", 5, 4)\n",
        "s4=student(\"dina\", 9,6)\n",
        "qu=Queue(add)\n",
        "qu.EnQueue(s1)\n",
        "qu.EnQueue(s2)\n",
        "qu.EnQueue(s3)\n",
        "qu.EnQueue(s4)"
      ],
      "metadata": {
        "id": "wWcOX9XnVqnO"
      },
      "execution_count": null,
      "outputs": []
    },
    {
      "cell_type": "code",
      "source": [
        "add.displayall()"
      ],
      "metadata": {
        "colab": {
          "base_uri": "https://localhost:8080/"
        },
        "id": "l_KyF6OkYonD",
        "outputId": "e1806983-c2f3-46ad-fb6c-1b138124611c"
      },
      "execution_count": null,
      "outputs": [
        {
          "output_type": "stream",
          "name": "stdout",
          "text": [
            "the name is hager\n",
            " the id 1 \n",
            "the group is 2\n",
            "the name is mohand\n",
            " the id 4 \n",
            "the group is 4\n",
            "the name is mohamed\n",
            " the id 5 \n",
            "the group is 4\n",
            "the name is dina\n",
            " the id 9 \n",
            "the group is 6\n"
          ]
        }
      ]
    },
    {
      "cell_type": "code",
      "source": [
        "qu.DeQueue()"
      ],
      "metadata": {
        "id": "QniTaTNJWemL"
      },
      "execution_count": null,
      "outputs": []
    }
  ]
}