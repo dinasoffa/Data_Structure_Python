{
  "nbformat": 4,
  "nbformat_minor": 0,
  "metadata": {
    "colab": {
      "provenance": []
    },
    "kernelspec": {
      "name": "python3",
      "display_name": "Python 3"
    },
    "language_info": {
      "name": "python"
    }
  },
  "cells": [
    {
      "cell_type": "code",
      "execution_count": 1,
      "metadata": {
        "id": "AKVudX6gJqBj"
      },
      "outputs": [],
      "source": [
        "class student:\n",
        "  def __init__(self, id, name, group):\n",
        "    self.id=id\n",
        "    self.name=name\n",
        "    self.group=group\n",
        "  def __repr__(self):\n",
        "    return f\"the id is {self.id} \\n the name is {self.name} \\n the group is {self.group}\"\n",
        "\n"
      ]
    },
    {
      "cell_type": "code",
      "source": [
        "class node:\n",
        "  def __init__(self,data):\n",
        "    self.prev=None\n",
        "    self.next=None\n",
        "    self.data=data\n",
        "\n",
        "  def __repr__(self):\n",
        "    return str(self.data)\n",
        "\n",
        "\n"
      ],
      "metadata": {
        "id": "AAG7lC7gLgMI"
      },
      "execution_count": 2,
      "outputs": []
    },
    {
      "cell_type": "code",
      "source": [
        "from types import new_class\n",
        "from pickle import NONE\n",
        "class linked_list:\n",
        "  def __init__(self):\n",
        "    self.head=None\n",
        "    self.tail=None\n",
        "    self.size=0\n",
        "\n",
        "\n",
        "  def display(self):\n",
        "    current=self.head\n",
        "    while(current != None):\n",
        "      print(current.data)\n",
        "      current=current.next\n",
        "\n",
        "\n",
        "  def append(self,new_node):\n",
        "    new=node(new_node)\n",
        "    if (self.head==None):\n",
        "      self.head=new\n",
        "      self.tail=new\n",
        "      new.next=None\n",
        "      self.size+=1\n",
        "\n",
        "    else:\n",
        "      new.prev=self.tail\n",
        "      self.tail.next=new\n",
        "      self.tail=new\n",
        "      new.next=None\n",
        "      self.size+=1  \n",
        "# insert by index\n",
        "  def insert(self, new_node, index):\n",
        "    new=node(new_node)\n",
        "    if (self.head==None):\n",
        "         self.head=new\n",
        "         self.tail=new\n",
        "         self.size+=1\n",
        "    else:\n",
        "      if (index==0):\n",
        "        new.next=self.head\n",
        "        self.head.prev=new\n",
        "        self.head=new\n",
        "        self.size+=1\n",
        "\n",
        "      else:\n",
        "        i=0\n",
        "        current=self.head\n",
        "        while(i<(index-1)):\n",
        "          current=current.next\n",
        "          i+=1\n",
        "\n",
        "        if((current==None) or (current==self.tail)):\n",
        "          new.prev=self.tail\n",
        "          self.tail.next=new\n",
        "          self.tail=new\n",
        "          self.size+=1\n",
        "\n",
        "        else:\n",
        "          current.next.prev=new\n",
        "          new.next=current.next \n",
        "          current.next=new\n",
        "          new.prev=current\n",
        "          self.size+=1\n",
        "\n",
        "# search by name\n",
        "  def search_name(self,name):\n",
        "    i=0\n",
        "    if (self.head==None):\n",
        "      return\n",
        "\n",
        "    else:\n",
        "      current=self.head\n",
        "      while(current !=None):\n",
        "        if(current.data.name==name):\n",
        "          return (i+1 )\n",
        "\n",
        "        else:\n",
        "          current=current.next\n",
        "          i+=1\n",
        "\n",
        "      print(\"not found\")\n",
        "\n",
        "\n",
        "# delete node by id\n",
        "  def delete_id(self, id):\n",
        "    current=self.head\n",
        "    # linked list is empty\n",
        "    if (self.head==None):\n",
        "      return 0\n",
        "    # the node which need to delete is the first node\n",
        "    elif (current.data.id==id):\n",
        "      # there is only one node which need to delete\n",
        "      if (self.head==self.tail):\n",
        "        self.head=self.tail=None\n",
        "        self.size-=1\n",
        "\n",
        "      else:\n",
        "        current.next.prev=None\n",
        "        self.head=current.next  \n",
        "        self.size-=1\n",
        "\n",
        "    \n",
        "    else:\n",
        "      while(current.data.id !=id):\n",
        "        current=current.next\n",
        "      # if there is no node has the id in the linked list\n",
        "      if(current==None):\n",
        "        return 0\n",
        "      # if the node is the last node\n",
        "      else:\n",
        "        if (current==self.tail):\n",
        "          self.tail=current.prev\n",
        "          current.prev.next=None\n",
        "          self.size-=1\n",
        "    # if the node in the middle\n",
        "        else:\n",
        "          current.prev.next=current.next\n",
        "          current.next.prev=current.prev\n",
        "          self.size-=1\n",
        "\n",
        "\n",
        "  def delete_by_group(self,group):\n",
        "    current=self.head\n",
        "    if (self.head !=None):\n",
        "      for i in range(self.size):\n",
        "        if (current.data.group==group):\n",
        "          id=current.data.id\n",
        "          self.delete_id(id)\n",
        "\n",
        "        current=current.next\n",
        "\n",
        "\n",
        "\n",
        "  def delete_all():\n",
        "    self.head=self.tail=None\n",
        "\n",
        "\n",
        "\n",
        "\n",
        "\n",
        "\n",
        "\n",
        "\n",
        "\n",
        "\n",
        "\n",
        "\n",
        "\n",
        "\n",
        "\n",
        "\n",
        "\n"
      ],
      "metadata": {
        "id": "xjnuqu_tMbpw"
      },
      "execution_count": 48,
      "outputs": []
    },
    {
      "cell_type": "code",
      "source": [
        "s1=student(1,\"dina\",1)\n",
        "s2=student(2,\"hager\",1)\n",
        "s3=student(3,\"mohand\",1)\n",
        "\n",
        "s4=student(4,\"mohamed\",2)\n",
        "s5=student(5,\"abdelrhman\",3)\n",
        "\n"
      ],
      "metadata": {
        "id": "Ez7dRrkziI2j"
      },
      "execution_count": 49,
      "outputs": []
    },
    {
      "cell_type": "code",
      "source": [
        "lin=linked_list()\n",
        "lin.append(s1)\n",
        "lin.insert(s2,0)\n",
        "lin.insert(s3,1)\n",
        "lin.append(s4)\n",
        "lin.insert(s5,4)\n"
      ],
      "metadata": {
        "id": "-vYuOZydivsF"
      },
      "execution_count": 50,
      "outputs": []
    },
    {
      "cell_type": "code",
      "source": [
        "lin.display()"
      ],
      "metadata": {
        "colab": {
          "base_uri": "https://localhost:8080/"
        },
        "id": "ITzIxx1ijLi9",
        "outputId": "3287a4b2-0668-4e3f-8868-9b607cdd92ed"
      },
      "execution_count": 51,
      "outputs": [
        {
          "output_type": "stream",
          "name": "stdout",
          "text": [
            "the id is 2 \n",
            " the name is hager \n",
            " the group is 1\n",
            "the id is 3 \n",
            " the name is mohand \n",
            " the group is 1\n",
            "the id is 1 \n",
            " the name is dina \n",
            " the group is 1\n",
            "the id is 4 \n",
            " the name is mohamed \n",
            " the group is 2\n",
            "the id is 5 \n",
            " the name is abdelrhman \n",
            " the group is 3\n"
          ]
        }
      ]
    },
    {
      "cell_type": "code",
      "source": [
        "lin.delete_by_group(1)"
      ],
      "metadata": {
        "id": "1mzn2eMu8GfF"
      },
      "execution_count": 52,
      "outputs": []
    },
    {
      "cell_type": "code",
      "source": [
        "lin.display()"
      ],
      "metadata": {
        "colab": {
          "base_uri": "https://localhost:8080/"
        },
        "id": "rhGkuuw49nCx",
        "outputId": "4b51ea25-81ca-424b-83a7-c0c768c8ed6f"
      },
      "execution_count": 53,
      "outputs": [
        {
          "output_type": "stream",
          "name": "stdout",
          "text": [
            "the id is 4 \n",
            " the name is mohamed \n",
            " the group is 2\n",
            "the id is 5 \n",
            " the name is abdelrhman \n",
            " the group is 3\n"
          ]
        }
      ]
    },
    {
      "cell_type": "code",
      "source": [
        "lin.search_name(\"mohamed\")"
      ],
      "metadata": {
        "colab": {
          "base_uri": "https://localhost:8080/"
        },
        "id": "FtZCy-qb9vAB",
        "outputId": "ace9168f-a133-4472-d99a-f7bde6d94d6d"
      },
      "execution_count": 54,
      "outputs": [
        {
          "output_type": "execute_result",
          "data": {
            "text/plain": [
              "1"
            ]
          },
          "metadata": {},
          "execution_count": 54
        }
      ]
    },
    {
      "cell_type": "code",
      "source": [
        "lin.delete_id(4)"
      ],
      "metadata": {
        "id": "v3VbtlaI91wW"
      },
      "execution_count": 55,
      "outputs": []
    },
    {
      "cell_type": "code",
      "source": [
        "lin.display()"
      ],
      "metadata": {
        "colab": {
          "base_uri": "https://localhost:8080/"
        },
        "id": "jdZwIqWB95vl",
        "outputId": "05916a85-b46c-468a-8724-66e1690f5377"
      },
      "execution_count": 56,
      "outputs": [
        {
          "output_type": "stream",
          "name": "stdout",
          "text": [
            "the id is 5 \n",
            " the name is abdelrhman \n",
            " the group is 3\n"
          ]
        }
      ]
    }
  ]
}