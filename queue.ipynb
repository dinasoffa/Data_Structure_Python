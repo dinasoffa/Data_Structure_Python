{
  "nbformat": 4,
  "nbformat_minor": 0,
  "metadata": {
    "colab": {
      "provenance": []
    },
    "kernelspec": {
      "name": "python3",
      "display_name": "Python 3"
    },
    "language_info": {
      "name": "python"
    }
  },
  "cells": [
    {
      "cell_type": "code",
      "execution_count": 2,
      "metadata": {
        "id": "AKVudX6gJqBj"
      },
      "outputs": [],
      "source": [
        "class student:\n",
        "  def __init__(self, id, name, group):\n",
        "    self.id=id\n",
        "    self.name=name\n",
        "    self.group=group\n",
        "  def __repr__(self):\n",
        "    return f\"the id is {self.id} \\n the name is {self.name} \\n the group is {self.group}\"\n",
        "\n"
      ]
    },
    {
      "cell_type": "code",
      "source": [
        "class node:\n",
        "  def __init__(self,data):\n",
        "    self.prev=None\n",
        "    self.next=None\n",
        "    self.data=data\n",
        "\n",
        "  def __repr__(self):\n",
        "    return str(self.data)\n",
        "\n",
        "\n"
      ],
      "metadata": {
        "id": "AAG7lC7gLgMI"
      },
      "execution_count": 3,
      "outputs": []
    },
    {
      "cell_type": "code",
      "source": [
        "from types import new_class\n",
        "from pickle import NONE\n",
        "class single_linked:\n",
        "  def __init__(self):\n",
        "    self.head=None\n",
        "    self.tail=None\n",
        "    self.size=0\n",
        "\n",
        "\n",
        "  def display(self):\n",
        "    current=self.head\n",
        "    while(current != None):\n",
        "      print(current.data)\n",
        "      current=current.next\n",
        "\n",
        "\n",
        "class queue:\n",
        "  def __init__(self,linked):\n",
        "    self.linked=linked\n",
        "    self.linked.head=None\n",
        "    self.linked.tail=None\n",
        "\n",
        "\n",
        "  def enqueue(self,new_node):\n",
        "    new=node(new_node)\n",
        "    if (self.linked.head==None):\n",
        "      self.linked.head=new\n",
        "      self.linked.tail=new\n",
        "      new.next=None\n",
        "\n",
        "    else:\n",
        "      self.linked.tail.next=new\n",
        "      self.linked.tail=new\n",
        "\n",
        "  def dequeue(self):\n",
        "    if(self.linked.tail==None):\n",
        "      return 0\n",
        "\n",
        "    else:\n",
        "      if(self.linked.head !=None):\n",
        "        nd=self.linked.head\n",
        "        self.linked.head=self.linked.head.next\n",
        "\n",
        "      return nd   \n",
        "\n",
        "\n",
        "\n",
        "    \n",
        "\n",
        "\n",
        "\n",
        "\n",
        "\n",
        "\n",
        "\n",
        "\n",
        "\n",
        "\n",
        "\n"
      ],
      "metadata": {
        "id": "xjnuqu_tMbpw"
      },
      "execution_count": 13,
      "outputs": []
    },
    {
      "cell_type": "code",
      "source": [
        "s1=student(1,\"dina\",1)\n",
        "s2=student(2,\"hager\",1)\n",
        "s3=student(3,\"mohand\",1)\n",
        "\n",
        "s4=student(4,\"mohamed\",2)\n",
        "s5=student(5,\"abdelrhman\",3)\n",
        "\n"
      ],
      "metadata": {
        "id": "Ez7dRrkziI2j"
      },
      "execution_count": 14,
      "outputs": []
    },
    {
      "cell_type": "code",
      "source": [
        "lin=single_linked()\n",
        "q=queue(lin)\n",
        "q.enqueue(s1)\n",
        "q.enqueue(s2)\n",
        "q.enqueue(s3)\n",
        "q.enqueue(s4)\n",
        "q.enqueue(s5)\n"
      ],
      "metadata": {
        "id": "-vYuOZydivsF"
      },
      "execution_count": 15,
      "outputs": []
    },
    {
      "cell_type": "code",
      "source": [
        "lin.display()"
      ],
      "metadata": {
        "colab": {
          "base_uri": "https://localhost:8080/"
        },
        "id": "ITzIxx1ijLi9",
        "outputId": "0e2466d2-0632-4263-d9e1-0df5a1400069"
      },
      "execution_count": 16,
      "outputs": [
        {
          "output_type": "stream",
          "name": "stdout",
          "text": [
            "the id is 1 \n",
            " the name is dina \n",
            " the group is 1\n",
            "the id is 2 \n",
            " the name is hager \n",
            " the group is 1\n",
            "the id is 3 \n",
            " the name is mohand \n",
            " the group is 1\n",
            "the id is 4 \n",
            " the name is mohamed \n",
            " the group is 2\n",
            "the id is 5 \n",
            " the name is abdelrhman \n",
            " the group is 3\n"
          ]
        }
      ]
    },
    {
      "cell_type": "code",
      "source": [
        "q.dequeue()"
      ],
      "metadata": {
        "colab": {
          "base_uri": "https://localhost:8080/"
        },
        "id": "1mzn2eMu8GfF",
        "outputId": "8bc70dbb-6d9a-400a-d012-9783a5de90c0"
      },
      "execution_count": 17,
      "outputs": [
        {
          "output_type": "execute_result",
          "data": {
            "text/plain": [
              "the id is 1 \n",
              " the name is dina \n",
              " the group is 1"
            ]
          },
          "metadata": {},
          "execution_count": 17
        }
      ]
    },
    {
      "cell_type": "code",
      "source": [
        "q.dequeue()"
      ],
      "metadata": {
        "colab": {
          "base_uri": "https://localhost:8080/"
        },
        "id": "rhGkuuw49nCx",
        "outputId": "c7bf9c08-445e-4742-965c-6a50d8894f6d"
      },
      "execution_count": 18,
      "outputs": [
        {
          "output_type": "execute_result",
          "data": {
            "text/plain": [
              "the id is 2 \n",
              " the name is hager \n",
              " the group is 1"
            ]
          },
          "metadata": {},
          "execution_count": 18
        }
      ]
    },
    {
      "cell_type": "code",
      "source": [
        "lin.display()"
      ],
      "metadata": {
        "colab": {
          "base_uri": "https://localhost:8080/"
        },
        "id": "h8PRPR10I3Ym",
        "outputId": "8e6b19e4-89d9-4789-8623-f0c5a95dd04b"
      },
      "execution_count": 19,
      "outputs": [
        {
          "output_type": "stream",
          "name": "stdout",
          "text": [
            "the id is 3 \n",
            " the name is mohand \n",
            " the group is 1\n",
            "the id is 4 \n",
            " the name is mohamed \n",
            " the group is 2\n",
            "the id is 5 \n",
            " the name is abdelrhman \n",
            " the group is 3\n"
          ]
        }
      ]
    }
  ]
}