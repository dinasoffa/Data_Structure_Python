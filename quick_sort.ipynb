{
  "nbformat": 4,
  "nbformat_minor": 0,
  "metadata": {
    "colab": {
      "provenance": [],
      "authorship_tag": "ABX9TyNKL3NIuQ4yzqfoSDPcl4yM",
      "include_colab_link": true
    },
    "kernelspec": {
      "name": "python3",
      "display_name": "Python 3"
    },
    "language_info": {
      "name": "python"
    }
  },
  "cells": [
    {
      "cell_type": "markdown",
      "metadata": {
        "id": "view-in-github",
        "colab_type": "text"
      },
      "source": [
        "<a href=\"https://colab.research.google.com/github/dinasoffa/Data_Structure_Python/blob/main/quick_sort.ipynb\" target=\"_parent\"><img src=\"https://colab.research.google.com/assets/colab-badge.svg\" alt=\"Open In Colab\"/></a>"
      ]
    },
    {
      "cell_type": "code",
      "execution_count": 2,
      "metadata": {
        "id": "0bYYtaLgSIZ_"
      },
      "outputs": [],
      "source": [
        "def quick_sort(arr):\n",
        "  if (len(arr)<=1):\n",
        "    return arr\n",
        "  pivot=arr.pop()\n",
        "  greter=[]\n",
        "  lower=[]\n",
        "  equal=[pivot]\n",
        "\n",
        "  for i in arr:\n",
        "    if i>pivot:\n",
        "      greter.append(i)\n",
        "\n",
        "    elif i<pivot:\n",
        "      lower.append(i)  \n",
        "\n",
        "    else:\n",
        "      equal.append(i)\n",
        "\n",
        "  return quick_sort(lower)+quick_sort(equal)+quick_sort(greter)\n",
        "\n",
        "  "
      ]
    },
    {
      "cell_type": "code",
      "source": [
        "arr=[8,5,-9,3,1]\n",
        "quick_sort(arr)"
      ],
      "metadata": {
        "colab": {
          "base_uri": "https://localhost:8080/"
        },
        "id": "q4cAPpeVSozz",
        "outputId": "5a98a507-8686-4d22-e3be-27c05995fdd1"
      },
      "execution_count": 3,
      "outputs": [
        {
          "output_type": "execute_result",
          "data": {
            "text/plain": [
              "[-9, 1, 3, 5, 8]"
            ]
          },
          "metadata": {},
          "execution_count": 3
        }
      ]
    },
    {
      "cell_type": "code",
      "source": [
        "def partition(arr, start,end):\n",
        "  i=start-1\n",
        "  j=end+1\n",
        "  \n",
        "  while True:\n",
        "    pivot=arr[(start+end)//2]\n",
        "    i+=1\n",
        "\n",
        "    while arr[i]<pivot:\n",
        "      i+=1\n",
        "\n",
        "    j-=1\n",
        "    while arr[j]>pivot:\n",
        "      j-=1\n",
        "\n",
        "    if i>=j:\n",
        "      return j  \n",
        "\n",
        "    arr[i],arr[j]=arr[j],arr[i]\n",
        "\n"
      ],
      "metadata": {
        "id": "bnSXfeStVUD5"
      },
      "execution_count": 9,
      "outputs": []
    },
    {
      "cell_type": "code",
      "source": [
        "def quick_sort_part(arr,start,end):\n",
        "  if start<=end:\n",
        "\n",
        "    p=partition(arr,start,end)\n",
        "    quick_sort_part(arr, start, p-1)\n",
        "    quick_sort_part(arr,p+1,end)\n"
      ],
      "metadata": {
        "id": "C-0Exv_TXamH"
      },
      "execution_count": 21,
      "outputs": []
    },
    {
      "cell_type": "code",
      "source": [
        "arr=[8,5,-9,3,1]\n",
        "quick_sort_part(arr,0,len(arr)-1)\n",
        "print(arr)"
      ],
      "metadata": {
        "colab": {
          "base_uri": "https://localhost:8080/"
        },
        "id": "ck1CVyK5X66o",
        "outputId": "241564d8-bc02-4c5e-9ec4-5cde7281d5c9"
      },
      "execution_count": 24,
      "outputs": [
        {
          "output_type": "stream",
          "name": "stdout",
          "text": [
            "[-9, 5, 1, 3, 8]\n"
          ]
        }
      ]
    }
  ]
}