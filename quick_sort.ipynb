{
  "nbformat": 4,
  "nbformat_minor": 0,
  "metadata": {
    "colab": {
      "provenance": []
    },
    "kernelspec": {
      "name": "python3",
      "display_name": "Python 3"
    },
    "language_info": {
      "name": "python"
    }
  },
  "cells": [
    {
      "cell_type": "code",
      "execution_count": 16,
      "metadata": {
        "id": "8haY_y2VYgYI"
      },
      "outputs": [],
      "source": [
        "def quick_sort(arr):\n",
        "  if (len(arr)<=1):\n",
        "    return arr\n",
        "  pivot=arr.pop()\n",
        "  greter=[]\n",
        "  lower=[]\n",
        "  equal=[pivot]\n",
        "\n",
        "  for i in arr:\n",
        "    if i<pivot:\n",
        "      lower.append(i)\n",
        "\n",
        "    elif i>pivot:\n",
        "      greter.append(i)\n",
        "\n",
        "    else:\n",
        "      equal.append(i)\n",
        "\n",
        "  return quick_sort(lower)+quick_sort(equal)+quick_sort(greter)\n",
        "\n",
        "  "
      ]
    },
    {
      "cell_type": "code",
      "source": [
        "arr=[8,5,-9,3,1]\n",
        "quick_sort(arr)"
      ],
      "metadata": {
        "colab": {
          "base_uri": "https://localhost:8080/"
        },
        "id": "n572dnO-HZhJ",
        "outputId": "9158bc5d-7d8a-4d97-9a1f-ea30e6a24829"
      },
      "execution_count": 17,
      "outputs": [
        {
          "output_type": "execute_result",
          "data": {
            "text/plain": [
              "[-9, 1, 3, 5, 8]"
            ]
          },
          "metadata": {},
          "execution_count": 17
        }
      ]
    },
    {
      "cell_type": "code",
      "source": [
        "def partition(arr, start, end):\n",
        "  i=start-1\n",
        "  j=end+1\n",
        "  pivot=arr[(start+end)//2]\n",
        "\n",
        "  while True:\n",
        "    i+=1\n",
        "    while arr[i]<pivot:\n",
        "      i=+1\n",
        "\n",
        "    j-=1\n",
        "    while arr[j]>pivot:\n",
        "      j-=1\n",
        "\n",
        "    if i>=j:\n",
        "      return j\n",
        "\n",
        "    arr[i],arr[j]=arr[j],arr[i]\n",
        "\n",
        "\n",
        "\n"
      ],
      "metadata": {
        "id": "nMsMF1dxHnGq"
      },
      "execution_count": 18,
      "outputs": []
    },
    {
      "cell_type": "code",
      "source": [
        "def quick_sort_partion(arr,start,end):\n",
        "  if start<end:\n",
        "    p=partition(arr,start,end)\n",
        "    quick_sort_partion(arr,start,p)\n",
        "    quick_sort_partion(arr,p+1,end)\n",
        "\n",
        "\n"
      ],
      "metadata": {
        "id": "20-S6QYfKs50"
      },
      "execution_count": 19,
      "outputs": []
    },
    {
      "cell_type": "code",
      "source": [
        "arr=[2,5,8,0,8,1,3]\n",
        "quick_sort_partion(arr,0, len(arr)-1)\n",
        "print(arr)"
      ],
      "metadata": {
        "colab": {
          "base_uri": "https://localhost:8080/"
        },
        "id": "h1IEIKyMLyJY",
        "outputId": "43f71358-e5b7-4c4d-f33f-a0b6e4fe1f5e"
      },
      "execution_count": 22,
      "outputs": [
        {
          "output_type": "stream",
          "name": "stdout",
          "text": [
            "[0, 1, 2, 3, 5, 8, 8]\n"
          ]
        }
      ]
    }
  ]
}