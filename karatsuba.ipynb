{
  "nbformat": 4,
  "nbformat_minor": 0,
  "metadata": {
    "colab": {
      "provenance": [],
      "authorship_tag": "ABX9TyOQtScNaIX7tOPqenWeL85b",
      "include_colab_link": true
    },
    "kernelspec": {
      "name": "python3",
      "display_name": "Python 3"
    },
    "language_info": {
      "name": "python"
    }
  },
  "cells": [
    {
      "cell_type": "markdown",
      "metadata": {
        "id": "view-in-github",
        "colab_type": "text"
      },
      "source": [
        "<a href=\"https://colab.research.google.com/github/dinasoffa/Data_Structure_Python/blob/main/karatsuba.ipynb\" target=\"_parent\"><img src=\"https://colab.research.google.com/assets/colab-badge.svg\" alt=\"Open In Colab\"/></a>"
      ]
    },
    {
      "cell_type": "code",
      "execution_count": 12,
      "metadata": {
        "id": "1KVHwE9VIFA8"
      },
      "outputs": [],
      "source": [
        "def karatsuba(x,y):\n",
        "    xlen=len(str(x))\n",
        "    ylen=len(str(y))\n",
        "    \n",
        "    if (xlen==1) or (ylen==1):\n",
        "        prod=x*y\n",
        "        return prod\n",
        "    \n",
        "    else:\n",
        "        n=max(xlen,ylen)\n",
        "        nby2=int(n/2)\n",
        "        a=int(x/(10**(nby2)))\n",
        "        b=int(x%(10**(nby2)))\n",
        "        c=int(y/(10**(nby2)))\n",
        "        d=int(y%(10**(nby2)))\n",
        "        \n",
        "        ac=karatsuba(a,c)\n",
        "        bd=karatsuba(b,d)\n",
        "        \n",
        "        ab_plus_cd=karatsuba(a+b,c+d)-ac-bd\n",
        "        \n",
        "        prod=(ac*(10**(2*nby2))) +(ab_plus_cd*(10**(nby2))+bd)\n",
        "        return prod\n",
        "    "
      ]
    },
    {
      "cell_type": "code",
      "source": [
        "karatsuba(5432,1678)"
      ],
      "metadata": {
        "colab": {
          "base_uri": "https://localhost:8080/"
        },
        "id": "_F-d2QVHIJzK",
        "outputId": "fc37fdbf-55ea-49ab-966f-b49aa526e620"
      },
      "execution_count": 13,
      "outputs": [
        {
          "output_type": "execute_result",
          "data": {
            "text/plain": [
              "9114896"
            ]
          },
          "metadata": {},
          "execution_count": 13
        }
      ]
    },
    {
      "cell_type": "code",
      "source": [],
      "metadata": {
        "id": "DdgOhnFzMamk"
      },
      "execution_count": null,
      "outputs": []
    }
  ]
}