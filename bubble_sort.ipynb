{
  "nbformat": 4,
  "nbformat_minor": 0,
  "metadata": {
    "colab": {
      "provenance": []
    },
    "kernelspec": {
      "name": "python3",
      "display_name": "Python 3"
    },
    "language_info": {
      "name": "python"
    }
  },
  "cells": [
    {
      "cell_type": "code",
      "execution_count": 28,
      "metadata": {
        "id": "EJFLxLAbQnIQ"
      },
      "outputs": [],
      "source": [
        "def bubble_sort(arr):\n",
        "  size=len(arr)\n",
        "  swap=False\n",
        "\n",
        "\n",
        "  for i in range(size-1):\n",
        "    for j in range(size-i-1):\n",
        "      if (arr[j+1]<arr[j]):\n",
        "        arr[j+1],arr[j]=arr[j],arr[j+1]\n",
        "        swap=True\n",
        "\n",
        "    if not swap:\n",
        "      return arr   \n",
        "\n",
        "  return arr      "
      ]
    },
    {
      "cell_type": "code",
      "source": [
        "arr=[1,7,3,6,5]\n",
        "bubble_sort(arr)\n"
      ],
      "metadata": {
        "colab": {
          "base_uri": "https://localhost:8080/"
        },
        "id": "x-4ls4nIR4bW",
        "outputId": "62e6eacc-f84f-4b18-eee6-42a441c08de8"
      },
      "execution_count": 29,
      "outputs": [
        {
          "output_type": "execute_result",
          "data": {
            "text/plain": [
              "[1, 3, 5, 6, 7]"
            ]
          },
          "metadata": {},
          "execution_count": 29
        }
      ]
    }
  ]
}