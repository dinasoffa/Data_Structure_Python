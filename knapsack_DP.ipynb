{
  "nbformat": 4,
  "nbformat_minor": 0,
  "metadata": {
    "colab": {
      "provenance": []
    },
    "kernelspec": {
      "name": "python3",
      "display_name": "Python 3"
    },
    "language_info": {
      "name": "python"
    }
  },
  "cells": [
    {
      "cell_type": "code",
      "execution_count": 10,
      "metadata": {
        "id": "dZScmMTLucVP"
      },
      "outputs": [],
      "source": [
        "def knapsack_DP(w,weight,value,n):\n",
        "  k=[[0 for x in range(w+1)] for x in range(n+1)]\n",
        "\n",
        "  for i in range(n+1):\n",
        "    for w in range(w+1):\n",
        "      if i==0 or w==0:\n",
        "        k[i][w]=0\n",
        "\n",
        "      elif weight[i-1]<=w:\n",
        "        k[i][w]=max(val[i-1]+k[i-1][w-weight[i-1]],\n",
        "                    k[i-1][w])\n",
        "\n",
        "      else:\n",
        "        k[i][w]=k[i-1][w]\n",
        "  return k[i][w]     \n"
      ]
    },
    {
      "cell_type": "code",
      "source": [
        "val=[60,100,120]\n",
        "weight=[10,20,30]\n",
        "n=len(val)\n",
        "w=50\n",
        "knapsack_DP(w,weight,val,n)"
      ],
      "metadata": {
        "colab": {
          "base_uri": "https://localhost:8080/"
        },
        "id": "kp-Y4529wYim",
        "outputId": "56f5094b-184a-4dbf-f4ef-f45f3ded761f"
      },
      "execution_count": 11,
      "outputs": [
        {
          "output_type": "execute_result",
          "data": {
            "text/plain": [
              "220"
            ]
          },
          "metadata": {},
          "execution_count": 11
        }
      ]
    }
  ]
}