{
  "nbformat": 4,
  "nbformat_minor": 0,
  "metadata": {
    "colab": {
      "provenance": []
    },
    "kernelspec": {
      "name": "python3",
      "display_name": "Python 3"
    },
    "language_info": {
      "name": "python"
    }
  },
  "cells": [
    {
      "cell_type": "code",
      "execution_count": 1,
      "metadata": {
        "colab": {
          "base_uri": "https://localhost:8080/"
        },
        "id": "w8YHwscrfQmn",
        "outputId": "4fe77139-4e92-487e-d94d-95309993b78e"
      },
      "outputs": [
        {
          "output_type": "stream",
          "name": "stdout",
          "text": [
            "inorder \n",
            "\n",
            "10\n",
            "14\n",
            "19\n",
            "27\n",
            "31\n",
            "35\n",
            "42\n",
            "postorder \n",
            "\n",
            "10\n",
            "19\n",
            "14\n",
            "31\n",
            "42\n",
            "35\n",
            "27\n",
            "preorder \n",
            "\n",
            "27\n",
            "14\n",
            "10\n",
            "19\n",
            "35\n",
            "31\n",
            "42\n"
          ]
        }
      ],
      "source": [
        "class Node:\n",
        "    def __init__(self, data):\n",
        "            self.left = None\n",
        "            self.right = None\n",
        "            self.data = data\n",
        "    def insert(self, data):\n",
        "        \n",
        "# Compare the new value with the parent node\n",
        "      if self.data:\n",
        "        if data < self.data:\n",
        "            if self.left is None:\n",
        "                self.left = Node(data)\n",
        "            else:\n",
        "                self.left.insert(data)\n",
        "        elif data > self.data:\n",
        "                if self.right is None:\n",
        "                    self.right = Node(data)\n",
        "                else:\n",
        "                    self.right.insert(data)\n",
        "        else:\n",
        "            self.data = data\n",
        "            \n",
        "# Print the tree\n",
        "    def inorder(self):\n",
        "        \n",
        "        if self.left:\n",
        "            self.left.inorder()\n",
        "        print( self.data),\n",
        "        if self.right:\n",
        "             self.right.inorder()\n",
        "                \n",
        "                \n",
        "                \n",
        "         # Postorder traversal\n",
        "    # Left ->Right -> Root\n",
        "    def postorder(self):\n",
        "        \n",
        "        if self.left:\n",
        "            self.left.postorder()\n",
        "        \n",
        "        if self.right:\n",
        "             self.right.postorder()\n",
        "                \n",
        "        print( self.data) \n",
        "     # Root --> Left ->Right    \n",
        "    def preorder(self):\n",
        "        print( self.data),\n",
        "        if self.left:\n",
        "            self.left.preorder()\n",
        "        \n",
        "        if self.right:\n",
        "             self.right.preorder()\n",
        "                \n",
        "             \n",
        "\n",
        "# Use the insert method to add nodes\n",
        "root = Node(27)\n",
        "root.insert(14)\n",
        "root.insert(35)\n",
        "root.insert(10)\n",
        "root.insert(19)\n",
        "root.insert(31)\n",
        "root.insert(42)\n",
        "print(\"inorder \\n\")\n",
        "root.inorder() \n",
        "print(\"postorder \\n\")\n",
        "root.postorder()\n",
        "print(\"preorder \\n\")\n",
        "root.preorder()\n",
        "\n"
      ]
    },
    {
      "cell_type": "code",
      "source": [],
      "metadata": {
        "id": "Pd1LVqQKfbdB"
      },
      "execution_count": null,
      "outputs": []
    }
  ]
}