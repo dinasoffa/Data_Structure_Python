{
  "nbformat": 4,
  "nbformat_minor": 0,
  "metadata": {
    "colab": {
      "provenance": []
    },
    "kernelspec": {
      "name": "python3",
      "display_name": "Python 3"
    },
    "language_info": {
      "name": "python"
    }
  },
  "cells": [
    {
      "cell_type": "code",
      "execution_count": 1,
      "metadata": {
        "id": "AKVudX6gJqBj"
      },
      "outputs": [],
      "source": [
        "class student:\n",
        "  def __init__(self, id, name, group):\n",
        "    self.id=id\n",
        "    self.name=name\n",
        "    self.group=group\n",
        "  def __repr__(self):\n",
        "    return f\"the id is {self.id} \\n the name is {self.name} \\n the group is {self.group}\"\n",
        "\n"
      ]
    },
    {
      "cell_type": "code",
      "source": [
        "class node:\n",
        "  def __init__(self,data):\n",
        "    self.prev=None\n",
        "    self.next=None\n",
        "    self.data=data\n",
        "\n",
        "  def __repr__(self):\n",
        "    return str(self.data)\n",
        "\n",
        "\n"
      ],
      "metadata": {
        "id": "AAG7lC7gLgMI"
      },
      "execution_count": 2,
      "outputs": []
    },
    {
      "cell_type": "code",
      "source": [
        "from types import new_class\n",
        "from pickle import NONE\n",
        "class single_linked:\n",
        "  def __init__(self):\n",
        "    self.tail=None\n",
        "    self.size=0\n",
        "\n",
        "\n",
        "  def display(self):\n",
        "    current=self.tail\n",
        "    while(current != None):\n",
        "      print(current.data)\n",
        "      current=current.prev\n",
        "\n",
        "\n",
        "class stack:\n",
        "  def __init__(self,linked):\n",
        "    self.linked=linked\n",
        "    self.linked.tail=None\n",
        "\n",
        "\n",
        "  def push(self,new_node):\n",
        "    new=node(new_node)\n",
        "    if (self.linked.tail==None):\n",
        "      self.linked.tail=new\n",
        "      new.prev=None\n",
        "\n",
        "    else:\n",
        "      new.prev=self.linked.tail\n",
        "      self.linked.tail=new\n",
        "\n",
        "  def pop(self):\n",
        "    if(self.linked.tail==None):\n",
        "      return 0\n",
        "\n",
        "    else:\n",
        "      if(self.linked.tail !=None):\n",
        "        nd=self.linked.tail\n",
        "        self.linked.tail=self.linked.tail.prev\n",
        "\n",
        "      return nd   \n",
        "\n",
        "\n",
        "\n",
        "    \n",
        "\n",
        "\n",
        "\n",
        "\n",
        "\n",
        "\n",
        "\n",
        "\n",
        "\n",
        "\n",
        "\n"
      ],
      "metadata": {
        "id": "xjnuqu_tMbpw"
      },
      "execution_count": 68,
      "outputs": []
    },
    {
      "cell_type": "code",
      "source": [
        "s1=student(1,\"dina\",1)\n",
        "s2=student(2,\"hager\",1)\n",
        "s3=student(3,\"mohand\",1)\n",
        "\n",
        "s4=student(4,\"mohamed\",2)\n",
        "s5=student(5,\"abdelrhman\",3)\n",
        "\n"
      ],
      "metadata": {
        "id": "Ez7dRrkziI2j"
      },
      "execution_count": 69,
      "outputs": []
    },
    {
      "cell_type": "code",
      "source": [
        "lin=single_linked()\n",
        "st=stack(lin)\n",
        "st.push(s1)\n",
        "st.push(s2)\n",
        "st.push(s3)\n",
        "st.push(s4)\n",
        "st.push(s5)\n"
      ],
      "metadata": {
        "id": "-vYuOZydivsF"
      },
      "execution_count": 70,
      "outputs": []
    },
    {
      "cell_type": "code",
      "source": [
        "lin.display()"
      ],
      "metadata": {
        "colab": {
          "base_uri": "https://localhost:8080/"
        },
        "id": "ITzIxx1ijLi9",
        "outputId": "ecb33dd8-c916-4828-88b8-f8a4ac74b1e3"
      },
      "execution_count": 71,
      "outputs": [
        {
          "output_type": "stream",
          "name": "stdout",
          "text": [
            "the id is 5 \n",
            " the name is abdelrhman \n",
            " the group is 3\n",
            "the id is 4 \n",
            " the name is mohamed \n",
            " the group is 2\n",
            "the id is 3 \n",
            " the name is mohand \n",
            " the group is 1\n",
            "the id is 2 \n",
            " the name is hager \n",
            " the group is 1\n",
            "the id is 1 \n",
            " the name is dina \n",
            " the group is 1\n"
          ]
        }
      ]
    },
    {
      "cell_type": "code",
      "source": [
        "st.pop()"
      ],
      "metadata": {
        "colab": {
          "base_uri": "https://localhost:8080/"
        },
        "id": "1mzn2eMu8GfF",
        "outputId": "392733b3-6463-4549-b18c-7f7d3f6b3a3e"
      },
      "execution_count": 72,
      "outputs": [
        {
          "output_type": "execute_result",
          "data": {
            "text/plain": [
              "the id is 5 \n",
              " the name is abdelrhman \n",
              " the group is 3"
            ]
          },
          "metadata": {},
          "execution_count": 72
        }
      ]
    },
    {
      "cell_type": "code",
      "source": [
        "lin.display()"
      ],
      "metadata": {
        "colab": {
          "base_uri": "https://localhost:8080/"
        },
        "id": "rhGkuuw49nCx",
        "outputId": "4da39149-9fca-4f3a-cb76-2e8bd9f76c6f"
      },
      "execution_count": 73,
      "outputs": [
        {
          "output_type": "stream",
          "name": "stdout",
          "text": [
            "the id is 4 \n",
            " the name is mohamed \n",
            " the group is 2\n",
            "the id is 3 \n",
            " the name is mohand \n",
            " the group is 1\n",
            "the id is 2 \n",
            " the name is hager \n",
            " the group is 1\n",
            "the id is 1 \n",
            " the name is dina \n",
            " the group is 1\n"
          ]
        }
      ]
    }
  ]
}