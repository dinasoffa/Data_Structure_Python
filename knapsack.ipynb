{
  "nbformat": 4,
  "nbformat_minor": 0,
  "metadata": {
    "colab": {
      "provenance": []
    },
    "kernelspec": {
      "name": "python3",
      "display_name": "Python 3"
    },
    "language_info": {
      "name": "python"
    }
  },
  "cells": [
    {
      "cell_type": "code",
      "execution_count": 1,
      "metadata": {
        "id": "GWVfdHLzA3J2"
      },
      "outputs": [],
      "source": [
        "class item:\n",
        "  def __init__(self,value,weight):\n",
        "    self.value=value\n",
        "    self.weight=weight"
      ]
    },
    {
      "cell_type": "code",
      "source": [
        "def knapsack(arr, W):\n",
        "  # sort the array by rate of max_profit/weight\n",
        "\n",
        "  arr.sort(key=lambda x: (x.value/x.weight), reverse=True )\n",
        "  final_value=0.0\n",
        "\n",
        "  for item in arr:\n",
        "    if item.weight<=W:\n",
        "      W-=item.weight\n",
        "      final_value+=item.value\n",
        "\n",
        "    else :\n",
        "      final_value+=(W*item.value/item.weight)\n",
        "      break \n",
        "\n",
        "  return final_value\n",
        "\n",
        "\n"
      ],
      "metadata": {
        "id": "7pFLCC4ABanR"
      },
      "execution_count": 9,
      "outputs": []
    },
    {
      "cell_type": "code",
      "source": [
        "W = 50\n",
        "arr = [item(60, 10), item(100, 20), item(120, 30)]\n",
        "knapsack(arr, W)"
      ],
      "metadata": {
        "colab": {
          "base_uri": "https://localhost:8080/"
        },
        "id": "hOf_WTJCDHMW",
        "outputId": "ae7a8605-cf8e-4f5b-f493-9ced3080c0f1"
      },
      "execution_count": 10,
      "outputs": [
        {
          "output_type": "execute_result",
          "data": {
            "text/plain": [
              "240.0"
            ]
          },
          "metadata": {},
          "execution_count": 10
        }
      ]
    },
    {
      "cell_type": "code",
      "source": [
        "arr=[item(5,1),item(10,3), item(15,5), item(7,4), item(8,1), item(9,3), item(4,2)]\n",
        "W=15\n",
        "knapsack(arr, W)"
      ],
      "metadata": {
        "colab": {
          "base_uri": "https://localhost:8080/"
        },
        "id": "QLPK0AUtEvIG",
        "outputId": "844833a0-bba8-457d-c71b-023ae3040787"
      },
      "execution_count": 11,
      "outputs": [
        {
          "output_type": "execute_result",
          "data": {
            "text/plain": [
              "51.0"
            ]
          },
          "metadata": {},
          "execution_count": 11
        }
      ]
    },
    {
      "cell_type": "code",
      "source": [],
      "metadata": {
        "id": "pDXHcRg9FJDx"
      },
      "execution_count": null,
      "outputs": []
    },
    {
      "cell_type": "markdown",
      "source": [],
      "metadata": {
        "id": "OMetHgRuVeha"
      }
    }
  ]
}